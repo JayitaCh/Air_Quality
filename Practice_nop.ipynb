{
 "cells": [
  {
   "cell_type": "markdown",
   "id": "32972d5c-dffa-4b10-bd67-2ad3fe1262ad",
   "metadata": {},
   "source": [
    "# **Analysing LAEI data**"
   ]
  },
  {
   "cell_type": "markdown",
   "id": "6cc3137c-5a0c-4038-98a0-6ecc1856255e",
   "metadata": {},
   "source": [
    "### As we are using a 20-metre spatial granularity dataset, you are going to encounter a lot of data points for each of the pollutants concerned. Now, python provides multiple libraries for visualising geospatial data. For example, folium, ipyleaflet, rasterio, geoplot, bokeh and many more. Currently, we are more interested in publishing interactive visualisations. One python library that provides this support is \"Bokeh\" that targets web browsers for representation. Let's see what we can do with Bokeh."
   ]
  },
  {
   "cell_type": "code",
   "execution_count": null,
   "id": "cf96bbec-7d94-425d-9f95-74d989703145",
   "metadata": {},
   "outputs": [],
   "source": [
    "import geopandas as gpd\n",
    "import pandas as pd\n",
    "import numpy as np"
   ]
  },
  {
   "cell_type": "code",
   "execution_count": null,
   "id": "ea6150c8-9aed-4ac9-8352-cae24106de68",
   "metadata": {},
   "outputs": [],
   "source": [
    "import os\n",
    "os.listdir()"
   ]
  },
  {
   "cell_type": "code",
   "execution_count": null,
   "id": "e3394673-a64c-4147-aedc-53379e949f22",
   "metadata": {},
   "outputs": [],
   "source": [
    "df = pd.read_csv(\"laei_LAEI2019_2025_Base_Final_CorNOx15_NO2.csv\")\n",
    "gdf = gpd.GeoDataFrame(df,geometry=gpd.points_from_xy(df[\"x\"], df[\"y\"], crs=\"epsg:4326\"))"
   ]
  },
  {
   "cell_type": "code",
   "execution_count": null,
   "id": "d3be0cc5-88b7-4efb-bab9-f924d9c63b8d",
   "metadata": {},
   "outputs": [],
   "source": [
    "from convertbng.util import convert_lonlat\n",
    "# res = convert_lonlat((gdf.x.min(),gdf.x.max()), (gdf.y.min(),gdf.y.max()))\n",
    "# res\n",
    "gdf[\"Lon\"],gdf[\"Lat\"] = convert_lonlat(gdf[\"x\"].tolist(), gdf[\"y\"].tolist())"
   ]
  },
  {
   "cell_type": "code",
   "execution_count": null,
   "id": "d908f6f9-c453-43b4-a10b-a5a9cf85836d",
   "metadata": {},
   "outputs": [],
   "source": [
    "gdf =gdf.drop('geometry',axis=1)\n",
    "gdf = gpd.GeoDataFrame(gdf, geometry=gpd.points_from_xy(gdf.Lat, gdf.Lon))"
   ]
  },
  {
   "cell_type": "code",
   "execution_count": null,
   "id": "2dca39ab-c883-448f-9fa8-b6cde9ad4352",
   "metadata": {},
   "outputs": [],
   "source": [
    "# \"\"\"Converts decimal longitude/latitude to Web Mercator format\"\"\"\n",
    "def wgs84_to_web_mercator(df, lon=\"Lon\", lat=\"Lat\"):\n",
    "    k = 6378137\n",
    "    df[\"x_wm\"] = df[lon] * (k * np.pi/180.0)\n",
    "    df[\"y_wm\"] = np.log(np.tan((90 + df[lat]) * np.pi/360.0)) * k\n",
    "    return df"
   ]
  },
  {
   "cell_type": "code",
   "execution_count": null,
   "id": "ab2e8406-f88a-4d1f-8280-9add601b76be",
   "metadata": {},
   "outputs": [],
   "source": [
    "gdf = wgs84_to_web_mercator(gdf)"
   ]
  },
  {
   "cell_type": "code",
   "execution_count": null,
   "id": "328ebacf-2b96-448f-962b-9a272b63c210",
   "metadata": {},
   "outputs": [],
   "source": [
    "gdf.to_csv('NO2_transformed.csv')"
   ]
  },
  {
   "cell_type": "markdown",
   "id": "69b7e316-7641-4204-b537-e277da1790f9",
   "metadata": {},
   "source": [
    "## **Loading Data**"
   ]
  },
  {
   "cell_type": "markdown",
   "id": "d811ede5-8304-4d92-992e-47dfa7096972",
   "metadata": {},
   "source": [
    "### Please download the [**emission data**](https://data.london.gov.uk/download/london-atmospheric-emissions-inventory--laei--2019/f9f70e47-5683-4430-86e2-ffa2a50b31b1/LAEI2019-Concentrations-Data-CSV.zip \"**emission data**\"). Now load your data as a _geopandas_ dataframe. Make sure you are using appropriate referencing system."
   ]
  },
  {
   "cell_type": "code",
   "execution_count": null,
   "id": "fb13d462-2575-40e8-ba8b-695a814162e8",
   "metadata": {},
   "outputs": [],
   "source": [
    "df = pd.read_csv('NO2_transformed.csv')\n",
    "gdf = gpd.GeoDataFrame(df,geometry=gpd.points_from_xy(df[\"Lon\"], df[\"Lat\"], crs=\"epsg:4326\"))"
   ]
  },
  {
   "cell_type": "markdown",
   "id": "77a5ecf8-403c-4ed1-974c-1e29fbe652eb",
   "metadata": {},
   "source": [
    "## **Visualising the Data**"
   ]
  },
  {
   "cell_type": "markdown",
   "id": "b1f90314-9d32-4484-a0a1-bc841c0c05c0",
   "metadata": {},
   "source": [
    "### We will use _Bokeh_ plots to visualise the data. Make sure you have _Bokeh_ installed in your PC/laptop. Since _Bokeh_ generates interactive visualisation, you always need to run the _output_notebook_ function to load the library in jupyter."
   ]
  },
  {
   "cell_type": "code",
   "execution_count": null,
   "id": "97df2bd8-36ae-4ade-a9f8-7793ab013fe5",
   "metadata": {},
   "outputs": [],
   "source": [
    "from bokeh.models import BoxZoomTool\n",
    "from bokeh.plotting import figure, output_notebook, show\n",
    "\n",
    "output_notebook()"
   ]
  },
  {
   "cell_type": "markdown",
   "id": "2d7fe70d-4474-4b08-b7b0-24002fce089c",
   "metadata": {},
   "source": [
    "### Bokeh is compatible with several XYZ tile services that use the Web Mercator projection. If you are using the inbuilt tile services, make sure to transform your projection to Web Mercator format. Once, you have the appropriate format, you need to specify the plot extent. Here, we are going to use the dataframe to specify the plot extent."
   ]
  },
  {
   "cell_type": "code",
   "execution_count": null,
   "id": "ea89f28a-817b-454a-9ae6-526810fd22f7",
   "metadata": {},
   "outputs": [],
   "source": [
    "# import numpy as np\n",
    "\n",
    "# def wgs84_to_web_mercator(coor):\n",
    "# # \"\"\"Converts decimal longitude/latitude to Web Mercator format\"\"\"\n",
    "#     lon=coor[0]\n",
    "#     lat=coor[1]\n",
    "#     k = 6378137\n",
    "#     x = lon * (k * np.pi/180.0)\n",
    "#     y = np.log(np.tan((90 + lat) * np.pi/360.0)) * k\n",
    "#     return x,y"
   ]
  },
  {
   "cell_type": "code",
   "execution_count": null,
   "id": "6cb0982a-e7a7-4c25-a9a6-c46d139d5064",
   "metadata": {},
   "outputs": [],
   "source": [
    "# Define parameters to create the plot area\n",
    "# London = X,Y = ((-60888.862704380386,38169.921636820196),(6667658.647822232,6747198.269554087))\n",
    "London = X,Y = ((gdf.x_wm.min(),gdf.x_wm.max()),(gdf.y_wm.min(),gdf.y_wm.max()))\n",
    "plot_width = int(990)\n",
    "plot_height = int(plot_width//1.2)\n",
    "\n",
    "options = dict(line_color=None, fill_color='blue',size=5)"
   ]
  },
  {
   "cell_type": "markdown",
   "id": "2130162c-79bf-4b2f-b071-772d9c67a091",
   "metadata": {},
   "source": [
    "### You can now create your own functions to generate plots using _Bokeh_."
   ]
  },
  {
   "cell_type": "code",
   "execution_count": null,
   "id": "5e4acf3f-abda-4164-9472-1ce6a55a7ed4",
   "metadata": {},
   "outputs": [],
   "source": [
    "# Functions to create simple plots\n",
    "def simple_plot(tools='pan,wheel_zoom,reset',plot_width=plot_width,plot_height=plot_height,**plot_kwargs):\n",
    "    p = figure(title = 'NO2 Concentration from LAEI',tools=tools, width=plot_width,height=plot_height,\n",
    "               x_range=X, y_range=Y,outline_line_color=None,\n",
    "               min_border=0,min_border_left=0,min_border_right=0,min_border_top=0,\n",
    "               min_border_bottom=0,**plot_kwargs)\n",
    "    p.axis.visible = False\n",
    "    p.xgrid.grid_line_color = None\n",
    "    p.ygrid.grid_line_color = None\n",
    "\n",
    "    p.add_tools(BoxZoomTool(match_aspect=True))\n",
    "\n",
    "    return p"
   ]
  },
  {
   "cell_type": "code",
   "execution_count": null,
   "id": "f8b96b41-d15f-44b2-8cba-c8f6d1ce76cc",
   "metadata": {},
   "outputs": [],
   "source": [
    "from bokeh.tile_providers import Vendors\n",
    "import xyzservices.providers as xyz"
   ]
  },
  {
   "cell_type": "code",
   "execution_count": null,
   "id": "31f8a6c7-0759-4ff2-902d-6a535d163bd8",
   "metadata": {},
   "outputs": [],
   "source": [
    "%%time\n",
    "samples = gdf.sample(n=100000)\n",
    "p= simple_plot()\n",
    "p.add_tile(Vendors.STAMEN_TERRAIN_RETINA)\n",
    "p.circle(x=samples[\"x_wm\"],y=samples[\"y_wm\"], **options)\n",
    "\n",
    "show(p)"
   ]
  },
  {
   "cell_type": "code",
   "execution_count": null,
   "id": "2e9f1005-d2ec-4a20-ba0f-23b5e82146aa",
   "metadata": {},
   "outputs": [],
   "source": [
    "gdf = gdf.drop('geometry',axis=1)"
   ]
  },
  {
   "cell_type": "markdown",
   "id": "ec1a4ad8-068c-4ceb-92f8-11372a5e27ba",
   "metadata": {},
   "source": [
    "### Now this plot doesn't reveal much about the concentration. We are more interested in looking at the concentration values. Colormaps can represent the concentration better."
   ]
  },
  {
   "cell_type": "code",
   "execution_count": null,
   "id": "370e3961-bcd9-465c-8ffd-fd10a4933cd5",
   "metadata": {},
   "outputs": [],
   "source": [
    "%%time\n",
    "from bokeh.palettes import PRGn, RdYlGn\n",
    "from bokeh.plotting import ColumnDataSource\n",
    "from bokeh.transform import linear_cmap\n",
    "from bokeh.models import LinearColorMapper, ColorBar, NumeralTickFormatter\n",
    "\n",
    "# Choose palette\n",
    "palette = RdYlGn[11]\n",
    "\n",
    "samples = gdf.sample(n=10000)\n",
    "\n",
    "source = ColumnDataSource(data=samples)\n",
    "color_mapper = linear_cmap(field_name = 'conc', palette = palette, low = samples['conc'].min(), high = samples['conc'].max())\n",
    "options = dict(source=source,line_color=None, color=color_mapper,size=5)\n",
    "p= simple_plot()\n",
    "p.add_tile(Vendors.CARTODBPOSITRON)\n",
    "p.circle(x='x_wm',y='y_wm', **options)\n",
    "\n",
    "#Defines color bar\n",
    "color_bar = ColorBar(color_mapper=color_mapper['transform'], \n",
    "                     formatter = NumeralTickFormatter(format='0.0[0000]'), \n",
    "                     label_standoff = 13, width=8, location=(0,0))\n",
    "# Set color_bar location\n",
    "p.add_layout(color_bar, 'right')\n",
    "\n",
    "show(p)"
   ]
  },
  {
   "cell_type": "markdown",
   "id": "a58ea541-fb45-497f-b9ec-25d07c9c6d56",
   "metadata": {},
   "source": [
    "## _Undersampling_"
   ]
  },
  {
   "cell_type": "code",
   "execution_count": null,
   "id": "506aa628-40e1-4ead-b99a-563036e5498f",
   "metadata": {},
   "outputs": [],
   "source": [
    "samples = gdf.sample(n=10000)\n",
    "\n",
    "source = ColumnDataSource(data=samples)\n",
    "color_mapper = linear_cmap(field_name = 'conc', palette = palette, low = samples['conc'].min(), high = samples['conc'].max())\n",
    "options = dict(source=source,line_color=None, color=color_mapper,size=5)\n",
    "p= simple_plot()\n",
    "p.add_tile(Vendors.CARTODBPOSITRON)\n",
    "p.circle(x='x_wm',y='y_wm', **options)\n",
    "\n",
    "#Defines color bar\n",
    "color_bar = ColorBar(color_mapper=color_mapper['transform'], \n",
    "                     formatter = NumeralTickFormatter(format='0.0[0000]'), \n",
    "                     label_standoff = 13, width=8, location=(0,0))\n",
    "# Set color_bar location\n",
    "p.add_layout(color_bar, 'right')\n",
    "\n",
    "show(p)"
   ]
  },
  {
   "cell_type": "markdown",
   "id": "d47181ae-6700-4c71-86f5-829d21c9fe2f",
   "metadata": {},
   "source": [
    "## _Overplotting_"
   ]
  },
  {
   "cell_type": "code",
   "execution_count": null,
   "id": "219a46fc-0258-4460-a592-e290e2dd956f",
   "metadata": {},
   "outputs": [],
   "source": [
    "%%time\n",
    "samples = gdf.sample(n=1000000)\n",
    "\n",
    "source = ColumnDataSource(data=samples)\n",
    "color_mapper = linear_cmap(field_name = 'conc', palette = palette, low = samples['conc'].min(), high = samples['conc'].max())\n",
    "options = dict(source=source,line_color=None, color=color_mapper,size=5)\n",
    "p= simple_plot()\n",
    "p.add_tile(Vendors.CARTODBPOSITRON)\n",
    "p.circle(x='x_wm',y='y_wm', **options)\n",
    "\n",
    "#Defines color bar\n",
    "color_bar = ColorBar(color_mapper=color_mapper['transform'], \n",
    "                     formatter = NumeralTickFormatter(format='0.0[0000]'), \n",
    "                     label_standoff = 13, width=8, location=(0,0))\n",
    "# Set color_bar location\n",
    "p.add_layout(color_bar, 'right')\n",
    "\n",
    "show(p)"
   ]
  },
  {
   "cell_type": "markdown",
   "id": "a4d3a45c-40d8-42af-9a72-580688abe335",
   "metadata": {},
   "source": [
    "### Now we hardly can differentiate between the concentration levels across the plot area. Such overplotting occurs mostly for large datasets. We can use _datashader_ package for meaningful visualisations. Datashader breaks the creation of images of data into 3 main steps:\n",
    "\n",
    "### 1. Projection - Each record is projected into zero or more bins of a nominal plotting grid shape, based on a specified glyph. We will first create create a Canvas object with the shape of the eventual plot.\n",
    "\n",
    "### 2. Aggregation - Reductions are computed for each bin, compressing the potentially large dataset into a much smaller aggregate array.\n",
    "\n",
    "### 3. Transformation - These aggregates are then further processed, eventually creating an image where we will map the resulting counts into a visible color from a specified range.\n",
    "\n",
    "### Click this [link](https://datashader.org/getting_started/index.html) to read more about _datashader_."
   ]
  },
  {
   "cell_type": "code",
   "execution_count": null,
   "id": "b6d53498-5c77-4485-9a6f-260ddf951283",
   "metadata": {},
   "outputs": [],
   "source": [
    "import datashader as ds\n",
    "from datashader import transfer_functions as tf\n",
    "from functools import partial\n",
    "from datashader.utils import export_image\n",
    "from datashader.colors import colormap_select, Hot, inferno"
   ]
  },
  {
   "cell_type": "code",
   "execution_count": null,
   "id": "7e31bf35-3ddc-48e7-bcf6-0cf72103a019",
   "metadata": {},
   "outputs": [],
   "source": [
    "import colorcet as cc"
   ]
  },
  {
   "cell_type": "code",
   "execution_count": null,
   "id": "11715b66-0ac7-4486-8e14-674a052dfdf6",
   "metadata": {},
   "outputs": [],
   "source": [
    "gdf.head()"
   ]
  },
  {
   "cell_type": "code",
   "execution_count": null,
   "id": "d48bf52b-3d5d-42fb-b32c-d163223305f4",
   "metadata": {},
   "outputs": [],
   "source": [
    "# cool trick (from the offical notebook to make function calls more elegant)\n",
    "background = \"black\"\n",
    "export = partial(export_image, export_path=\"export\", background=\"black\")\n",
    "cm = partial(colormap_select, reverse=(background!=\"black\"))\n",
    "\n",
    "# this functions wraps the image creating process of datashader\n",
    "def create_image(x_range, y_range, w=plot_width, h=plot_height):\n",
    "    cvs = ds.Canvas(plot_width=w, plot_height=h, x_range=x_range, y_range=y_range)\n",
    "    agg = cvs.points(gdf, 'x_wm', 'y_wm',ds.mean('conc'))\n",
    "    img = tf.shade(agg, cmap=cm(Hot),how='eq_hist')\n",
    "    return tf.dynspread(img, threshold=0.5, max_px=4)"
   ]
  },
  {
   "cell_type": "code",
   "execution_count": null,
   "id": "e3dc5053-3bb2-4817-8090-d555d3b805ef",
   "metadata": {},
   "outputs": [],
   "source": [
    "X,Y = ((gdf.x_wm.min(),gdf.x_wm.max()),(gdf.y_wm.min(),gdf.y_wm.max()))"
   ]
  },
  {
   "cell_type": "code",
   "execution_count": null,
   "id": "5d604bcb-92e5-4a85-9d21-d4df246788b6",
   "metadata": {},
   "outputs": [],
   "source": [
    "export(create_image(X,Y,plot_width,plot_height),\"NO2 concentration\")"
   ]
  },
  {
   "cell_type": "code",
   "execution_count": null,
   "id": "946d1f6d-0fab-46f2-954f-242804b67443",
   "metadata": {},
   "outputs": [],
   "source": [
    "gdf = gdf[gdf['conc']<40]"
   ]
  },
  {
   "cell_type": "code",
   "execution_count": null,
   "id": "82221307-d510-4b24-8f53-420dffabb18c",
   "metadata": {},
   "outputs": [],
   "source": [
    "from distfit import distfit\n",
    "dfit = distfit()"
   ]
  },
  {
   "cell_type": "code",
   "execution_count": null,
   "id": "4b0eccfb-393d-4270-a052-59860f07cc9b",
   "metadata": {},
   "outputs": [],
   "source": [
    "p = figure(width=670, height=400, toolbar_location=None,\n",
    "           title=\"Distribution of emission concentration levels\")\n",
    "\n",
    "# Histogram\n",
    "bins = np.linspace(gdf.conc.min(), gdf.conc.max(), 40)\n",
    "hist, edges = np.histogram(gdf['conc'], density=True, bins=bins)\n",
    "p.quad(top=hist, bottom=0, left=edges[:-1], right=edges[1:],\n",
    "         fill_color=\"skyblue\", line_color=\"white\",\n",
    "         legend_label=\"Distribution of NO2 Emission concentration levels\")\n",
    "\n",
    "# # Probability density function\n",
    "# x = np.linspace(gdf.conc.min(), gdf.conc.max(), 100)\n",
    "# pdf = np.exp(-0.5*x**2) / np.sqrt(2.0*np.pi)\n",
    "# p.line(x, pdf, line_width=2, line_color=\"navy\",\n",
    "#        legend_label=\"Probability Density Function\")\n",
    "\n",
    "p.y_range.start = 0\n",
    "p.xaxis.axis_label = \"NO2_Concentration\"\n",
    "p.yaxis.axis_label = \"PDF(NO2_Concentration)\"\n",
    "\n",
    "show(p)"
   ]
  },
  {
   "cell_type": "code",
   "execution_count": null,
   "id": "6dd0c2ad-5b90-47e1-8f67-797700023716",
   "metadata": {},
   "outputs": [],
   "source": [
    "len(gdf[gdf['conc']>100])"
   ]
  },
  {
   "cell_type": "code",
   "execution_count": null,
   "id": "90efdeda-1e2d-4b44-b37f-fa6f71b2989e",
   "metadata": {},
   "outputs": [],
   "source": [
    "X,Y = ((gdf.x_wm.min(),gdf.x_wm.max()),(gdf.y_wm.min(),gdf.y_wm.max()))"
   ]
  },
  {
   "cell_type": "code",
   "execution_count": null,
   "id": "1e78675b-3ab6-4e32-a2cf-529bc705b1f7",
   "metadata": {},
   "outputs": [],
   "source": [
    "sum(Y)"
   ]
  },
  {
   "cell_type": "code",
   "execution_count": null,
   "id": "dcf0c333-9edc-4248-bd04-5047e18260f2",
   "metadata": {},
   "outputs": [],
   "source": [
    "# we can now use bokeh to interactivly create new datashader images at different scales \n",
    "from bokeh.models import ColorBar, EqHistColorMapper\n",
    "from bokeh.palettes import Spectral11\n",
    "\n",
    "# p = simple_plot(background_fill_color=background)\n",
    "p = simple_plot()\n",
    "cvs = ds.Canvas(plot_width=plot_width, plot_height=plot_height, x_range=X, y_range=Y)\n",
    "agg = cvs.points(gdf, 'x_wm', 'y_wm',ds.mean('conc'))\n",
    "im = ds.transfer_functions.shade(agg, cmap=list(Spectral11))\n",
    "# color_mapper = EqHistColorMapper(palette=Spectral11, nan_color=\"black\")\n",
    "color_mapper = EqHistColorMapper(palette=Spectral11)\n",
    "p.image_rgba(image=[im.to_numpy()], x=X[0], y=Y[0], dw=plot_width*100, dh=plot_height*100)\n",
    "# p.image(image=[agg], x=X[0], y=Y[0], dw=plot_width, dh=plot_height,color_mapper=color_mapper)\n",
    "p.add_tile(Vendors.STAMEN_TERRAIN)\n",
    "\n",
    "color_bar = ColorBar(color_mapper=color_mapper)\n",
    "p.add_layout(color_bar, \"right\")\n",
    "\n",
    "show(p)"
   ]
  },
  {
   "cell_type": "code",
   "execution_count": null,
   "id": "809ca0f4-c22d-457c-a960-9efa0b9e75d6",
   "metadata": {},
   "outputs": [],
   "source": []
  },
  {
   "cell_type": "code",
   "execution_count": null,
   "id": "d82acaee-691e-4150-9912-82293cfd649c",
   "metadata": {},
   "outputs": [],
   "source": []
  },
  {
   "cell_type": "code",
   "execution_count": null,
   "id": "214b62e2-0529-4297-898a-021220b76f46",
   "metadata": {},
   "outputs": [],
   "source": [
    "?p.image"
   ]
  },
  {
   "cell_type": "code",
   "execution_count": null,
   "id": "1473f70f-10d3-4aed-9cf3-47f2e6324390",
   "metadata": {},
   "outputs": [],
   "source": []
  }
 ],
 "metadata": {
  "kernelspec": {
   "display_name": "laei_env",
   "language": "python",
   "name": "python3"
  },
  "language_info": {
   "codemirror_mode": {
    "name": "ipython",
    "version": 3
   },
   "file_extension": ".py",
   "mimetype": "text/x-python",
   "name": "python",
   "nbconvert_exporter": "python",
   "pygments_lexer": "ipython3",
   "version": "3.11.14"
  }
 },
 "nbformat": 4,
 "nbformat_minor": 5
}
